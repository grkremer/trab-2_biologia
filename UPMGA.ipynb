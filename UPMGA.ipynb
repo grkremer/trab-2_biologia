{
 "cells": [
  {
   "attachments": {},
   "cell_type": "markdown",
   "metadata": {},
   "source": [
    "### Definição algoritmo UPMGA"
   ]
  },
  {
   "cell_type": "code",
   "execution_count": 18,
   "metadata": {},
   "outputs": [],
   "source": [
    "import pandas as pd\n",
    "matrix = pd.read_csv('matriz_distancias.csv', sep = '\\t', index_col= 'index')\n",
    "\n",
    "def encontraMenorDistancia(matrix):\n",
    "  min = matrix.iloc[0,-1]\n",
    "  for i in matrix.iterrows():\n",
    "    for j in matrix:\n",
    "      if (i[1][j] <= min and i[1][j] > 0):\n",
    "        min = i[1][j]\n",
    "        gen1 = i[0]\n",
    "        gen2 = j\n",
    "  return min, (gen1, gen2)\n",
    "\n",
    "def substituiPar(matrix, par):\n",
    "    print(matrix)\n",
    "    matrix[str(par).replace(\"'\",'')] = matrix.apply(lambda x: (x[par[0]] + x[par[1]])/2)\n",
    "    matrix.drop(list(par), axis =1, inplace=True)\n",
    "    matrix.drop(list(par), inplace = True)\n",
    "    vec = list(matrix[str(par).replace(\"'\",'')])\n",
    "    vec.append(0)\n",
    "    matrix.loc[str(par).replace(\"'\",'')] = vec\n",
    "    print(min)\n",
    "    \n",
    "\n",
    "def upmga(matrix):\n",
    "  while len(matrix.columns) > 1:\n",
    "    min, par = encontraMenorDistancia(matrix)\n",
    "    substituiPar(matrix, par)\n",
    "  return (matrix.columns[0])\n",
    "  "
   ]
  },
  {
   "attachments": {},
   "cell_type": "markdown",
   "metadata": {},
   "source": [
    "### Questão 1"
   ]
  },
  {
   "cell_type": "code",
   "execution_count": 19,
   "metadata": {},
   "outputs": [
    {
     "name": "stdout",
     "output_type": "stream",
     "text": [
      "              A         B         C         D         E         F\n",
      "index                                                            \n",
      "A      0.000000  1.423067  1.246474  2.482968  1.602307  0.744842\n",
      "B      1.423067  0.000000  1.898534  3.135029  2.254368  1.943034\n",
      "C      1.246474  1.898534  0.000000  1.482011  0.601351  1.766440\n",
      "D      2.482968  3.135029  1.482011  0.000000  1.267805  3.002934\n",
      "E      1.602307  2.254368  0.601351  1.267805  0.000000  2.122274\n",
      "F      0.744842  1.943034  1.766440  3.002934  2.122274  0.000000\n",
      "2.4097011\n",
      "               A         B         D         F    (E, C)\n",
      "index                                                   \n",
      "A       0.000000  1.423067  2.482968  0.744842  1.424390\n",
      "B       1.423067  0.000000  3.135029  1.943034  2.076451\n",
      "D       2.482968  3.135029  0.000000  3.002934  1.374908\n",
      "F       0.744842  1.943034  3.002934  0.000000  1.944357\n",
      "(E, C)  1.424390  2.076451  1.374908  1.944357  0.000000\n",
      "2.4097011\n",
      "               B         D    (E, C)    (F, A)\n",
      "index                                         \n",
      "B       0.000000  3.135029  2.076451  1.683050\n",
      "D       3.135029  0.000000  1.374908  2.742951\n",
      "(E, C)  2.076451  1.374908  0.000000  1.684374\n",
      "(F, A)  1.683050  2.742951  1.684374  0.000000\n",
      "2.4097011\n",
      "                   B    (F, A)  ((E, C), D)\n",
      "index                                      \n",
      "B            0.00000  1.683050     2.605740\n",
      "(F, A)       1.68305  0.000000     2.213662\n",
      "((E, C), D)  2.60574  2.213662     0.000000\n",
      "2.4097011\n",
      "             ((E, C), D)  ((F, A), B)\n",
      "index                                \n",
      "((E, C), D)     0.000000     2.409701\n",
      "((F, A), B)     2.409701     0.000000\n",
      "2.4097011\n"
     ]
    },
    {
     "data": {
      "text/plain": [
       "'(((F, A), B), ((E, C), D))'"
      ]
     },
     "execution_count": 19,
     "metadata": {},
     "output_type": "execute_result"
    }
   ],
   "source": [
    "matrix = pd.read_csv('matriz_distancias.csv', sep = '\\t', index_col= 'index')\n",
    "upmga(matrix)\n"
   ]
  },
  {
   "attachments": {},
   "cell_type": "markdown",
   "metadata": {},
   "source": [
    "### Questão 2 - A\n",
    "\n",
    "|Sequencia|Organismo|Max Score|\n",
    "|---|:---:|---:|\n",
    "|seq_1|Bacillus anthracis|18465|\n",
    "|seq_2|Clostridium tetani|18465|\n",
    "|seq_3|Escherichia coli|18222|\n",
    "|seq_4|Mycobacterium tuberculosis|18465|\n",
    "|seq_5|Pseudomonas aerugin|18465|\n",
    "|seq_6|Salmonella enteric|18465|\n",
    "|seq_7|Staphylococcus aureus|18465|\n",
    "|seq_8|Streptococcus pneumoni|18465|\n",
    "|seq_9|Treponema pallidum|18465|\n",
    "|seq_10|Vibrio cholerae|18465|"
   ]
  },
  {
   "attachments": {},
   "cell_type": "markdown",
   "metadata": {},
   "source": [
    "### Questão 2 - B"
   ]
  },
  {
   "cell_type": "code",
   "execution_count": 73,
   "metadata": {},
   "outputs": [],
   "source": [
    "import sys\n",
    "\n",
    "gap = -2\n",
    "mismatch = -1\n",
    "match = 1\n",
    "\n",
    "def calculaScore(seq1, seq2):\n",
    "  if len(seq2) > len(seq1):\n",
    "      seq1, seq2 = seq2, seq1\n",
    "  i = 1\n",
    "  j = 0\n",
    "  seq1 = ' '+ seq1\n",
    "  seq2 = ' ' + seq2\n",
    "  linha_anterior = list(range(0,(len(seq1))*gap, gap))\n",
    "  while i < len(seq1):\n",
    "    atual = [(i)*gap]\n",
    "    for j in range(1,len(seq2)):\n",
    "      if seq1[i] == seq2[j]:\n",
    "        atual.append(max(linha_anterior[j -1]+match, linha_anterior[j] + gap, atual[-1] + gap))\n",
    "      else:\n",
    "        atual.append(max(linha_anterior[j -1]+mismatch, linha_anterior[j] + gap, atual[-1] + gap))\n",
    "    linha_anterior = atual\n",
    "    i += 1\n",
    "  return atual[-1]\n",
    "\n"
   ]
  },
  {
   "cell_type": "code",
   "execution_count": 74,
   "metadata": {},
   "outputs": [
    {
     "name": "stdout",
     "output_type": "stream",
     "text": [
      "seq_1 vs seq_2: -40\n",
      "seq_1 vs seq_3: -37\n",
      "seq_1 vs seq_4: -32\n",
      "seq_1 vs seq_5: -39\n",
      "seq_1 vs seq_6: -48\n",
      "seq_1 vs seq_7: -108\n",
      "seq_1 vs seq_8: -40\n",
      "seq_1 vs seq_9: -34\n",
      "seq_1 vs seq_10: -33\n",
      "seq_2 vs seq_3: -58\n",
      "seq_2 vs seq_4: -43\n",
      "seq_2 vs seq_5: -38\n",
      "seq_2 vs seq_6: -49\n",
      "seq_2 vs seq_7: -124\n",
      "seq_2 vs seq_8: -29\n",
      "seq_2 vs seq_9: -39\n",
      "seq_2 vs seq_10: -45\n",
      "seq_3 vs seq_4: -29\n",
      "seq_3 vs seq_5: -25\n",
      "seq_3 vs seq_6: -36\n",
      "seq_3 vs seq_7: -119\n",
      "seq_3 vs seq_8: -37\n",
      "seq_3 vs seq_9: -31\n",
      "seq_3 vs seq_10: -44\n",
      "seq_4 vs seq_5: -21\n",
      "seq_4 vs seq_6: -21\n",
      "seq_4 vs seq_7: -134\n",
      "seq_4 vs seq_8: -29\n",
      "seq_4 vs seq_9: -37\n",
      "seq_4 vs seq_10: -42\n",
      "seq_5 vs seq_6: -12\n",
      "seq_5 vs seq_7: -128\n",
      "seq_5 vs seq_8: -29\n",
      "seq_5 vs seq_9: -45\n",
      "seq_5 vs seq_10: -28\n",
      "seq_6 vs seq_7: -144\n",
      "seq_6 vs seq_8: -29\n",
      "seq_6 vs seq_9: -47\n",
      "seq_6 vs seq_10: -52\n",
      "seq_7 vs seq_8: -121\n",
      "seq_7 vs seq_9: -124\n",
      "seq_7 vs seq_10: -121\n",
      "seq_8 vs seq_9: -39\n",
      "seq_8 vs seq_10: -38\n",
      "seq_9 vs seq_10: -37\n"
     ]
    },
    {
     "data": {
      "text/plain": [
       "['GGATAACATTTTGAACCGCATGGTTCGAAATTGAAAGGCGGCTTCGGCTGTCACTTATGGATGGACCCGCGTCGCATTAGCTAGTTGGTGAGGTAACGGCTCACCAAGGCAACGATGCGTAGCCGACCTGAGAGGGTGATCGGCCACACTGGGACTGAGACACGGCCCAGACTCCTACGGGAGGCAGCAGTAGGGAATCTTCCGCAATGGACGAAAGTCTGACGGAGCAACGCCGCGT',\n",
       " 'TTGTGGGAAGCAGGGAGGACCACCTCCCAAGGCTAAATACTAACTGGTGACCGATAGTGAAGCAGTACCGTGAGGGAAAGGTGAAAAGAACCCCGGGAGGGGAGTGAAATAGAACCTGAAACCGTATGCTTACAAACAGTGGGAGCACGTTAATGTGTGACCGCGTGCTTTTTGTAGAACGAGCCAGCGAGTTACGGTATGTAGCAAGGTTAAGCACTTAAGGTGCGGAGCCGAAGGGAAACCAAGTCTT',\n",
       " 'GCTCCAGGGCTTCTTCCGTCAGTGCTGACGGGATGCGGACGTGCACATCGTGGATCTTTCGGCGGGCATGAGCCCAGCAGGCAGCTTCCGTTATCCCACCATTGCGGTACAGCTCGTTGAACCCGGCGTACGCATCCGCTTGCAGCACACCGCTGAAGCAAGCAAGCAGGGTCTGCGGGTTGACGAGATCAAGGAATGGACGGAGCCGGGAAACGGTAATCAGAAAGTAGTTCGCGTGACTTATACGTGG',\n",
       " 'GCGTCGGTATTGAGCACCTCGCGCCAGCGGCCCGCGCGCGGCAGCCCGAGTCGATAGTCACGGTGTTCGGCACCTGCGAAATTGAACACGCAGGCCAGCACCGAGCCGTCGCTGCCGTAGCGCATAAAGCTCAACACATTGTTGGCGGAGTCGTTGGCGTCGATCCAAGAATAGCCTTCGGGGGTGGTGTCTAAGCTCCACAGCGCCGGGTGGCATCGGTAGATGTCGTTGATGTCGCGCACCAGCCGCT',\n",
       " 'TGCACGGGGGCGGGCAGTTGCAGCTGTTCGAGACGGCCGCGGGTCAGTTCGAAGAGCATGGCCGCCTCGCGTTCGGCGCTGAGCAGGCCGACCGTGACCTGGCTGTCGGCGCGCCCGTGATGCTCCAGATGCAGGGTGAAGCGCTGCACGCCGCTGTCGCGTCCGGCGAGAAAGGCGGCGAGATCGGCGCTCAGCCGTCGCAGGGGGAAGAGCAGGGCCTGGTGCGATTCCACGTCGAAATTGAGTTCGA',\n",
       " 'CCCCAGCGAGAAAATGCTGCCTTTATGGGTATTGACGCCCGCCGTTGCGCGAAACATCGCTGCTTCACAGGCCATCCCCAATGGACGCAGGCCCGCCAGAACTGACTCTGGCGGCAGGCGCGTGCAGCTGGCGCCATATTCCATAAAGCGCGGCAGCCAGTGTCGAATCGCCTCCGCGCTGCGGTGAAAATCCGCCAGCGCCATATCTTTGTGCGCGCCGCAGTTTAGTCGGTCTACCAGACCGGGTTTT',\n",
       " 'AAGGAGAGGAAAGAAGCAAGCGATTGTCACAAGTCAAGAAAGGTTCTTAGCGAGGATGGTAGCTAACTTACGTTCCGCTAGAGTAGAACGTTGCTAGACAAGAAATGAATGCGATGAGCCGCATTGAGTGTGAAATTGATATTTTAATAA',\n",
       " 'GTATTAGCTAGTTGGTGGGGTAACGGCTCACCAAGGCGACGATACATAGCCGACCTGAGAGGGTGATCGGCCACACTGGGACTGAGACACGGCCCAGACTCCTACGGGAGGCAGCAGTAGGGAATCTTCGGCAATGGACGGAAGTCTGACCGAGCAACGCCGCGTGAGTGAAGAAGGTTTTCGGATCGTAAAGCTCTGTTGTAAGAGAAGAACGAGTGTGAGAGTGGAAAGTTCACACTGTGACGGTATC',\n",
       " 'CCAGACCGTCAGCTAAGGTCCCGAAATACCGCTTGAGTGTGAAATGAAGTGTGGGTACCTGGACAGCCAGGAGGTTGGCTTAGAAGCAGCCATTCCTTGAAAGAGTGCGTAATAGCTCACTGGTCGAGTACGCATGCGCAGATAATGTATCGGGGCTAAGCGGTATACCGAAGCTACGGGTCTTGCATTTTTGGTGCAAGGCGGTAGGGGAGCATTCCATGTACTGATGAAGGAATATCCGGGAGGAGTT',\n",
       " 'GTTTGATCATGGCTCAGATTGAACGCTGGCGGCAGGCCTAACACATGCAAGTCGAGCGGCAGCACAGAGGAACTTGTTCCTTGGGTGGCGAGCGGCGGACGGGTGAGTAATGCCTGGGAAATTGCCCGGTAGAGGGGGATAACCATTGGAAACGATGGCTAATACCGCATAACCTCGCAAGAGCAAAGCAGGGGACCTTCGGGCCTTGCGCTACCGGATATGCCCAGGTGGGATTAGCTAGTTGGTGAGG']"
      ]
     },
     "execution_count": 74,
     "metadata": {},
     "output_type": "execute_result"
    }
   ],
   "source": [
    "\n",
    "seqs= []\n",
    "for i in range(1,11):\n",
    "    seqs.append(open(f'seq_{i}.fna', 'r').read().replace('\\n', '')[1:])\n",
    "\n",
    "seqs[0] = seqs[0][9482:9720]\n",
    "seqs[1] = seqs[1][177903:178153]\n",
    "seqs[2] = seqs[2][3519919:3520169]\n",
    "seqs[3] = seqs[3][1490249:1490499]\n",
    "seqs[4] = seqs[4][731123:731373]\n",
    "seqs[5] = seqs[5][682942:683192]\n",
    "seqs[6] = seqs[6][454284:454434]\n",
    "seqs[7] = seqs[7][15079:15329]\n",
    "seqs[8] = seqs[8][234103:234353]\n",
    "seqs[9] = seqs[9][253:503]\n",
    "\n",
    "for i, seq_a in enumerate(seqs):\n",
    "    for j, seq_b in enumerate(seqs):\n",
    "        if i < j:\n",
    "            result = calculaScore(seq_a, seq_b)\n",
    "            i_ = i+1\n",
    "            j_ = j+1\n",
    "            print(f'seq_{i_} vs seq_{j_}: {result}')\n",
    "seqs\n",
    "    "
   ]
  },
  {
   "attachments": {},
   "cell_type": "markdown",
   "metadata": {},
   "source": [
    "seq_1 vs seq_2: -1109\n",
    "seq_1 vs seq_3: -1388\n",
    "seq_1 vs seq_4: -1625\n",
    "seq_1 vs seq_5: -1522\n",
    "seq_1 vs seq_6: -1528\n",
    "seq_1 vs seq_7: 1617\n",
    "seq_1 vs seq_8: -518\n",
    "seq_1 vs seq_9: -1213\n",
    "seq_1 vs seq_10: -1297\n",
    "seq_2 vs seq_3: -1541\n",
    "seq_2 vs seq_4: -1958\n",
    "seq_2 vs seq_5: -1937\n",
    "seq_2 vs seq_6: -1717\n",
    "seq_2 vs seq_7: -1032\n",
    "seq_2 vs seq_8: -1194\n",
    "seq_2 vs seq_9: -1329\n",
    "seq_2 vs seq_10: -1556\n",
    "seq_3 vs seq_4: -1262\n",
    "seq_3 vs seq_5: -1220\n",
    "seq_3 vs seq_6: -1167\n",
    "seq_3 vs seq_7: -1450\n",
    "seq_3 vs seq_8: -1448\n",
    "seq_3 vs seq_9: -1357\n",
    "seq_3 vs seq_10: -1240\n",
    "seq_4 vs seq_5: -749\n",
    "seq_4 vs seq_6: -1057\n",
    "seq_4 vs seq_7: -1303\n",
    "seq_4 vs seq_8: -1712\n",
    "seq_4 vs seq_9: -1394\n",
    "seq_4 vs seq_10: -1289\n",
    "seq_5 vs seq_6: -1040\n",
    "seq_5 vs seq_7: -1780\n",
    "seq_5 vs seq_8: -1972\n",
    "seq_5 vs seq_9: -1454\n",
    "seq_5 vs seq_10: -1324\n",
    "seq_6 vs seq_7: -1552\n",
    "seq_6 vs seq_8: -1605\n",
    "seq_6 vs seq_9: -1296\n",
    "seq_6 vs seq_10: -1255\n",
    "seq_7 vs seq_8: -752\n",
    "seq_7 vs seq_9: -1179\n",
    "seq_7 vs seq_10: -1280\n",
    "seq_8 vs seq_9: -1236\n",
    "seq_8 vs seq_10: -1332\n",
    "seq_9 vs seq_10: -1295"
   ]
  }
 ],
 "metadata": {
  "kernelspec": {
   "display_name": "Python 3",
   "language": "python",
   "name": "python3"
  },
  "language_info": {
   "codemirror_mode": {
    "name": "ipython",
    "version": 3
   },
   "file_extension": ".py",
   "mimetype": "text/x-python",
   "name": "python",
   "nbconvert_exporter": "python",
   "pygments_lexer": "ipython3",
   "version": "3.11.0"
  },
  "orig_nbformat": 4,
  "vscode": {
   "interpreter": {
    "hash": "c261aea317cc0286b3b3261fbba9abdec21eaa57589985bb7a274bf54d6cc0a7"
   }
  }
 },
 "nbformat": 4,
 "nbformat_minor": 2
}
