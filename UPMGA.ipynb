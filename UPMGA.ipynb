{
 "cells": [
  {
   "attachments": {},
   "cell_type": "markdown",
   "metadata": {},
   "source": [
    "### Definição algoritmo UPMGA"
   ]
  },
  {
   "cell_type": "code",
   "execution_count": 18,
   "metadata": {},
   "outputs": [],
   "source": [
    "import pandas as pd\n",
    "matrix = pd.read_csv('matriz_distancias.csv', sep = '\\t', index_col= 'index')\n",
    "\n",
    "def encontraMenorDistancia(matrix):\n",
    "  min = matrix.iloc[0,-1]\n",
    "  for i in matrix.iterrows():\n",
    "    for j in matrix:\n",
    "      if (i[1][j] <= min and i[1][j] > 0):\n",
    "        min = i[1][j]\n",
    "        gen1 = i[0]\n",
    "        gen2 = j\n",
    "  return min, (gen1, gen2)\n",
    "\n",
    "def substituiPar(matrix, par):\n",
    "    print(matrix)\n",
    "    matrix[str(par).replace(\"'\",'')] = matrix.apply(lambda x: (x[par[0]] + x[par[1]])/2)\n",
    "    matrix.drop(list(par), axis =1, inplace=True)\n",
    "    matrix.drop(list(par), inplace = True)\n",
    "    vec = list(matrix[str(par).replace(\"'\",'')])\n",
    "    vec.append(0)\n",
    "    matrix.loc[str(par).replace(\"'\",'')] = vec\n",
    "    print(min)\n",
    "    \n",
    "\n",
    "def upmga(matrix):\n",
    "  while len(matrix.columns) > 1:\n",
    "    min, par = encontraMenorDistancia(matrix)\n",
    "    substituiPar(matrix, par)\n",
    "  return (matrix.columns[0])\n",
    "  "
   ]
  },
  {
   "attachments": {},
   "cell_type": "markdown",
   "metadata": {},
   "source": [
    "### Questão 1"
   ]
  },
  {
   "cell_type": "code",
   "execution_count": 19,
   "metadata": {},
   "outputs": [
    {
     "name": "stdout",
     "output_type": "stream",
     "text": [
      "              A         B         C         D         E         F\n",
      "index                                                            \n",
      "A      0.000000  1.423067  1.246474  2.482968  1.602307  0.744842\n",
      "B      1.423067  0.000000  1.898534  3.135029  2.254368  1.943034\n",
      "C      1.246474  1.898534  0.000000  1.482011  0.601351  1.766440\n",
      "D      2.482968  3.135029  1.482011  0.000000  1.267805  3.002934\n",
      "E      1.602307  2.254368  0.601351  1.267805  0.000000  2.122274\n",
      "F      0.744842  1.943034  1.766440  3.002934  2.122274  0.000000\n",
      "2.4097011\n",
      "               A         B         D         F    (E, C)\n",
      "index                                                   \n",
      "A       0.000000  1.423067  2.482968  0.744842  1.424390\n",
      "B       1.423067  0.000000  3.135029  1.943034  2.076451\n",
      "D       2.482968  3.135029  0.000000  3.002934  1.374908\n",
      "F       0.744842  1.943034  3.002934  0.000000  1.944357\n",
      "(E, C)  1.424390  2.076451  1.374908  1.944357  0.000000\n",
      "2.4097011\n",
      "               B         D    (E, C)    (F, A)\n",
      "index                                         \n",
      "B       0.000000  3.135029  2.076451  1.683050\n",
      "D       3.135029  0.000000  1.374908  2.742951\n",
      "(E, C)  2.076451  1.374908  0.000000  1.684374\n",
      "(F, A)  1.683050  2.742951  1.684374  0.000000\n",
      "2.4097011\n",
      "                   B    (F, A)  ((E, C), D)\n",
      "index                                      \n",
      "B            0.00000  1.683050     2.605740\n",
      "(F, A)       1.68305  0.000000     2.213662\n",
      "((E, C), D)  2.60574  2.213662     0.000000\n",
      "2.4097011\n",
      "             ((E, C), D)  ((F, A), B)\n",
      "index                                \n",
      "((E, C), D)     0.000000     2.409701\n",
      "((F, A), B)     2.409701     0.000000\n",
      "2.4097011\n"
     ]
    },
    {
     "data": {
      "text/plain": [
       "'(((F, A), B), ((E, C), D))'"
      ]
     },
     "execution_count": 19,
     "metadata": {},
     "output_type": "execute_result"
    }
   ],
   "source": [
    "matrix = pd.read_csv('matriz_distancias.csv', sep = '\\t', index_col= 'index')\n",
    "upmga(matrix)\n"
   ]
  },
  {
   "attachments": {},
   "cell_type": "markdown",
   "metadata": {},
   "source": [
    "### Questão 2 - A\n",
    "\n",
    "|Sequencia|Organismo|Max Score|\n",
    "|---|:---:|---:|\n",
    "|seq_1|Bacillus anthracis|18465|\n",
    "|seq_2|Clostridium tetani|18465|\n",
    "|seq_3|Escherichia coli|18222|\n",
    "|seq_4|Mycobacterium tuberculosis|18465|\n",
    "|seq_5|Pseudomonas aerugin|18465|\n",
    "|seq_6|Salmonella enteric|18465|\n",
    "|seq_7|Staphylococcus aureus|18465|\n",
    "|seq_8|Streptococcus pneumoni|18465|\n",
    "|seq_9|Treponema pallidum|18465|\n",
    "|seq_10|Vibrio cholerae|18465|"
   ]
  },
  {
   "attachments": {},
   "cell_type": "markdown",
   "metadata": {},
   "source": [
    "### Questão 2 - B"
   ]
  },
  {
   "cell_type": "code",
   "execution_count": 37,
   "metadata": {},
   "outputs": [
    {
     "name": "stdout",
     "output_type": "stream",
     "text": [
      "100\n",
      "ATATTTTTTCTTGTTTTTTATATCCACAAACTCTTTTCGTACTTTTACACAGTATATCGTGTTGTGGACAATTTTATTCCACAAGGTATTGATTTTGTGG\n",
      "TAGATGGACGCAGTAGGGTATGAAGTATTCTGGAACGAGACACTCAGCCAGATACGGAGTGAATCGACCGAAGCAGAATTTAACATGTGGTTTGCTCATT\n",
      "Score:  -25\n"
     ]
    }
   ],
   "source": [
    "import sys\n",
    "\n",
    "gap = -2\n",
    "mismatch = -1\n",
    "match = 1\n",
    "\n",
    "\n",
    "\n",
    "def preencheMatrix(matrix):\n",
    "  for i in range(1, len(matrix[0])):\n",
    "    matrix[1].append((i-1)*gap)  \n",
    "  for j in range(2, len(matrix)):\n",
    "    matrix[j].append((j-1)*gap)\n",
    "  for x in range(2, len(matrix[0])):\n",
    "    for i in range(2, len(matrix)):\n",
    "      if matrix[i][0] == matrix[0][x]:\n",
    "          matrix[i].append(max(matrix[i-1][x-1] +match, matrix[i-1][x] + gap, matrix[i][x-1] + gap))\n",
    "      else:\n",
    "          matrix[i].append(max(matrix[i-1][x-1] + mismatch, matrix[i-1][x] +gap, matrix[i][x-1] +gap))\n",
    "\n",
    "\n",
    "def calculaAlinhamento(matrix):\n",
    "  seq1 = \"\"\n",
    "  seq2 = \"\"\n",
    "  i = len(matrix)-1\n",
    "  j = len(matrix[0])-1\n",
    "  score = matrix[i][j]\n",
    "  while i > 1 or j > 1:\n",
    "    if j <= 1:\n",
    "      seq1 = '-' + seq1\n",
    "      seq2 = matrix[i][0] + seq2\n",
    "      i = i-1\n",
    "    elif i <= 1:\n",
    "      seq1 = matrix[0][j] + seq1\n",
    "      seq2 = '-' + seq2\n",
    "      j = j-1\n",
    "    elif matrix[0][j] == matrix[i][0]:\n",
    "      seq1 = matrix[0][j] + seq1\n",
    "      seq2 = matrix[i][0] + seq2\n",
    "      i = i-1\n",
    "      j = j-1\n",
    "    else:\n",
    "      maximum = max(matrix[i-1][j-1], matrix[i][j-1], matrix[i-1][j])\n",
    "      if maximum == matrix[i-1][j-1]:\n",
    "        seq1 = matrix[0][j] + seq1\n",
    "        seq2 = matrix[i][0] + seq2\n",
    "        i = i-1\n",
    "        j = j-1\n",
    "      elif maximum == matrix[i-1][j]:\n",
    "        seq1 = '-' + seq1\n",
    "        seq2 = matrix[i][0] + seq2\n",
    "        i = i-1\n",
    "      elif maximum == matrix[i][j-1]:\n",
    "        seq1 = matrix[0][j] + seq1\n",
    "        seq2 = '-' + seq2\n",
    "        j = j-1\n",
    "  return score, seq1, seq2\n",
    "\n",
    "def calculaScore(seq1, seq2):\n",
    "  i = len(seq1)\n",
    "  j = len(seq2)\n",
    "  linha_anterior = list(range(0,len(seq1)*gap, gap))\n",
    "  print(linha_anterior)\n",
    "    \n",
    "\n",
    "\n",
    "seq1 = open('seq1.fna', 'r')\n",
    "seq1 = (seq1.read().replace('\\n','')[:100])\n",
    "print(len(seq1))\n",
    "seq2 = open('seq9.fna', 'r')\n",
    "seq2 = (seq2.read().replace('\\n','')[:100])\n",
    "\n",
    "\n",
    "print(seq1)\n",
    "print(seq2)\n",
    "matrix = montaMatrix(seq1, seq2)\n",
    "preencheMatrix(matrix)\n",
    "result = calculaScore(matrix)\n",
    "\n",
    "print('Score: ',result)\n",
    "\n"
   ]
  },
  {
   "cell_type": "code",
   "execution_count": 45,
   "metadata": {},
   "outputs": [
    {
     "name": "stdout",
     "output_type": "stream",
     "text": [
      "seq_7 vs seq_8: -752\n",
      "seq_7 vs seq_9: -1179\n",
      "seq_7 vs seq_10: -1280\n",
      "seq_8 vs seq_9: -1236\n",
      "seq_8 vs seq_10: -1332\n",
      "seq_9 vs seq_10: -1295\n"
     ]
    }
   ],
   "source": [
    "import glob\n",
    "files = glob.glob(\"s*\")\n",
    "for i in range (7,11):\n",
    "    for j in range(1,11):\n",
    "        if i < j:\n",
    "            seq_a = open(f'seq{i}.fna', 'r').read()\n",
    "            seq_b = open(f'seq{j}.fna', 'r').read()\n",
    "            matrix = montaMatrix(seq_a, seq_b)\n",
    "            preencheMatrix(matrix)\n",
    "            result = calculaScore(matrix)\n",
    "            print(f'seq_{i} vs seq_{j}: {result}')\n",
    "    "
   ]
  },
  {
   "attachments": {},
   "cell_type": "markdown",
   "metadata": {},
   "source": [
    "seq_1 vs seq_2: -1109\n",
    "seq_1 vs seq_3: -1388\n",
    "seq_1 vs seq_4: -1625\n",
    "seq_1 vs seq_5: -1522\n",
    "seq_1 vs seq_6: -1528\n",
    "seq_1 vs seq_7: 1617\n",
    "seq_1 vs seq_8: -518\n",
    "seq_1 vs seq_9: -1213\n",
    "seq_1 vs seq_10: -1297\n",
    "seq_2 vs seq_3: -1541\n",
    "seq_2 vs seq_4: -1958\n",
    "seq_2 vs seq_5: -1937\n",
    "seq_2 vs seq_6: -1717\n",
    "seq_2 vs seq_7: -1032\n",
    "seq_2 vs seq_8: -1194\n",
    "seq_2 vs seq_9: -1329\n",
    "seq_2 vs seq_10: -1556\n",
    "seq_3 vs seq_4: -1262\n",
    "seq_3 vs seq_5: -1220\n",
    "seq_3 vs seq_6: -1167\n",
    "seq_3 vs seq_7: -1450\n",
    "seq_3 vs seq_8: -1448\n",
    "seq_3 vs seq_9: -1357\n",
    "seq_3 vs seq_10: -1240\n",
    "seq_4 vs seq_5: -749\n",
    "seq_4 vs seq_6: -1057\n",
    "seq_4 vs seq_7: -1303\n",
    "seq_4 vs seq_8: -1712\n",
    "seq_4 vs seq_9: -1394\n",
    "seq_4 vs seq_10: -1289\n",
    "seq_5 vs seq_6: -1040\n",
    "seq_5 vs seq_7: -1780\n",
    "seq_5 vs seq_8: -1972\n",
    "seq_5 vs seq_9: -1454\n",
    "seq_5 vs seq_10: -1324\n",
    "seq_6 vs seq_7: -1552\n",
    "seq_6 vs seq_8: -1605\n",
    "seq_6 vs seq_9: -1296\n",
    "seq_6 vs seq_10: -1255\n",
    "seq_7 vs seq_8: -752\n",
    "seq_7 vs seq_9: -1179\n",
    "seq_7 vs seq_10: -1280\n",
    "seq_8 vs seq_9: -1236\n",
    "seq_8 vs seq_10: -1332\n",
    "seq_9 vs seq_10: -1295"
   ]
  },
  {
   "cell_type": "code",
   "execution_count": 158,
   "metadata": {},
   "outputs": [
    {
     "name": "stdout",
     "output_type": "stream",
     "text": [
      "TTTTTTCTTGTTTTTTATATCCACAAACTCTTTTCGTACTTTTACACAGTATATCGTGTTGTGGACAATTTTATTCCACAAGGTATTGATTTTGTGGATAACTTTCTTAATTTCATTGCTATAGCTACTTTTTTTTGATATTATAGTTGTGTTTTCACTTTGAATAAGTTTTCCACATCTTTATCTTATCCACAATT\n",
      "TTTCTTTGAACTTGTCAACACTTTTTTAAAAAATGTTTTTATGTTTGAAATAACTTGTAAAAATTTATGTTGTTCCTTTGCAACAACGTATTTTATTCTAACACAATTTAATTTAACTATTGAGTATTAAAACCTCATTTAATGCTATTATCTTTTATTTATTTATTATTTTTAGATTTCTCTCCATATTCCACATA\n",
      "-3\n"
     ]
    }
   ],
   "source": [
    "gap = -2\n",
    "mismatch = -1\n",
    "match = 1\n",
    "\n",
    "def calculaScore(seq1, seq2):\n",
    "  i = 1\n",
    "  j = 0\n",
    "  seq1 = ' '+ seq1\n",
    "  seq2 = ' ' + seq2\n",
    "  linha_anterior = list(range(0,(len(seq1))*gap, gap))\n",
    "  while i < len(seq1):\n",
    "    atual = [(i)*gap]\n",
    "    for j in range(1,len(seq2)):\n",
    "      if seq1[i] == seq2[j]:\n",
    "        atual.append(max(linha_anterior[j -1]+match, linha_anterior[j] + gap, atual[-1] + gap))\n",
    "      else:\n",
    "        atual.append(max(linha_anterior[j -1]+mismatch, linha_anterior[j] + gap, atual[-1] + gap))\n",
    "    linha_anterior = atual\n",
    "    i += 1\n",
    "  print(atual[-1])\n",
    "\n",
    "\n",
    "seq1 = open('seq1.fna', 'r')\n",
    "seq1 = (seq1.read().replace('\\n','')[3:200])\n",
    "seq2 = open('seq2.fna', 'r')\n",
    "seq2 = (seq2.read().replace('\\n','')[3:200])\n",
    "print(seq1)\n",
    "print(seq2)\n",
    "calculaScore(seq1, seq2)"
   ]
  }
 ],
 "metadata": {
  "kernelspec": {
   "display_name": "Python 3",
   "language": "python",
   "name": "python3"
  },
  "language_info": {
   "codemirror_mode": {
    "name": "ipython",
    "version": 3
   },
   "file_extension": ".py",
   "mimetype": "text/x-python",
   "name": "python",
   "nbconvert_exporter": "python",
   "pygments_lexer": "ipython3",
   "version": "3.11.1"
  },
  "orig_nbformat": 4,
  "vscode": {
   "interpreter": {
    "hash": "801167540cbb55ba35d945cc42145fb282b6ddc0e114fed7a26f8df16ed9f164"
   }
  }
 },
 "nbformat": 4,
 "nbformat_minor": 2
}
