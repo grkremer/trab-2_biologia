{
 "cells": [
  {
   "cell_type": "code",
   "execution_count": 107,
   "metadata": {},
   "outputs": [],
   "source": [
    "import pandas as pd\n",
    "matrix = pd.read_csv('matriz_distancias.csv', sep = '\\t', index_col= 'index')\n",
    "\n",
    "\n",
    "def encontraMenorDistancia(matrix):\n",
    "  min = matrix.iloc[0,-1]\n",
    "  print(matrix)\n",
    "  for i in matrix.iterrows():\n",
    "    for j in matrix:\n",
    "      if (i[1][j] <= min and i[1][j] > 0):\n",
    "        min = i[1][j]\n",
    "        gen1 = i[0]\n",
    "        gen2 = j\n",
    "  return min, (gen1, gen2)"
   ]
  },
  {
   "cell_type": "code",
   "execution_count": 111,
   "metadata": {},
   "outputs": [
    {
     "name": "stdout",
     "output_type": "stream",
     "text": [
      "              A         B         C         D         E         F\n",
      "index                                                            \n",
      "A      0.000000  1.423067  1.246474  2.482968  1.602307  0.744842\n",
      "B      1.423067  0.000000  1.898534  3.135029  2.254368  1.943034\n",
      "C      1.246474  1.898534  0.000000  1.482011  0.601351  1.766440\n",
      "D      2.482968  3.135029  1.482011  0.000000  1.267805  3.002934\n",
      "E      1.602307  2.254368  0.601351  1.267805  0.000000  2.122274\n",
      "F      0.744842  1.943034  1.766440  3.002934  2.122274  0.000000\n",
      "[1.42439025, 2.07645105, 1.374908, 1.94435695, 0.0]\n",
      "               A         B         D         F    (C, E)\n",
      "index                                                   \n",
      "A       0.000000  1.423067  2.482968  0.744842  1.424390\n",
      "B       1.423067  0.000000  3.135029  1.943034  2.076451\n",
      "D       2.482968  3.135029  0.000000  3.002934  1.374908\n",
      "F       0.744842  1.943034  3.002934  0.000000  1.944357\n",
      "(C, E)  1.424390  2.076451  1.374908  1.944357  0.000000\n",
      "               A         B         D         F    (C, E)\n",
      "index                                                   \n",
      "A       0.000000  1.423067  2.482968  0.744842  1.424390\n",
      "B       1.423067  0.000000  3.135029  1.943034  2.076451\n",
      "D       2.482968  3.135029  0.000000  3.002934  1.374908\n",
      "F       0.744842  1.943034  3.002934  0.000000  1.944357\n",
      "(C, E)  1.424390  2.076451  1.374908  1.944357  0.000000\n",
      "[1.68305035, 2.7429511499999997, 1.6843736, 0.0]\n",
      "               B         D    (C, E)    (F, A)\n",
      "index                                         \n",
      "B       0.000000  3.135029  2.076451  1.683050\n",
      "D       3.135029  0.000000  1.374908  2.742951\n",
      "(C, E)  2.076451  1.374908  0.000000  1.684374\n",
      "(F, A)  1.683050  2.742951  1.684374  0.000000\n"
     ]
    }
   ],
   "source": [
    "matrix = pd.read_csv('matriz_distancias.csv', sep = '\\t', index_col= 'index')\n",
    "\n",
    "min, par = encontraMenorDistancia(matrix)\n",
    "def substituiPar(matrix, par):\n",
    "    matrix[str(par).replace(\"'\",'')] = matrix.apply(lambda x: (x[par[0]] + x[par[1]])/2)\n",
    "    matrix.drop(list(par), axis =1, inplace=True)\n",
    "    matrix.drop(list(par), inplace = True)\n",
    "    vec = list(matrix[str(par).replace(\"'\",'')])\n",
    "    vec.append(0)\n",
    "    matrix.loc[str(par).replace(\"'\",'')] = vec\n",
    "    print(list(matrix[str(par).replace(\"'\",'')]))\n",
    "    print(matrix)\n",
    "\n",
    "\n",
    "substituiPar(matrix, ('C','E'))\n",
    "min, par = encontraMenorDistancia(matrix)\n",
    "substituiPar(matrix,par)"
   ]
  },
  {
   "cell_type": "code",
   "execution_count": 112,
   "metadata": {},
   "outputs": [
    {
     "name": "stdout",
     "output_type": "stream",
     "text": [
      "              A         B         C         D         E         F\n",
      "index                                                            \n",
      "A      0.000000  1.423067  1.246474  2.482968  1.602307  0.744842\n",
      "B      1.423067  0.000000  1.898534  3.135029  2.254368  1.943034\n",
      "C      1.246474  1.898534  0.000000  1.482011  0.601351  1.766440\n",
      "D      2.482968  3.135029  1.482011  0.000000  1.267805  3.002934\n",
      "E      1.602307  2.254368  0.601351  1.267805  0.000000  2.122274\n",
      "F      0.744842  1.943034  1.766440  3.002934  2.122274  0.000000\n",
      "[1.42439025, 2.07645105, 1.374908, 1.94435695, 0.0]\n",
      "               A         B         D         F    (E, C)\n",
      "index                                                   \n",
      "A       0.000000  1.423067  2.482968  0.744842  1.424390\n",
      "B       1.423067  0.000000  3.135029  1.943034  2.076451\n",
      "D       2.482968  3.135029  0.000000  3.002934  1.374908\n",
      "F       0.744842  1.943034  3.002934  0.000000  1.944357\n",
      "(E, C)  1.424390  2.076451  1.374908  1.944357  0.000000\n",
      "               A         B         D         F    (E, C)\n",
      "index                                                   \n",
      "A       0.000000  1.423067  2.482968  0.744842  1.424390\n",
      "B       1.423067  0.000000  3.135029  1.943034  2.076451\n",
      "D       2.482968  3.135029  0.000000  3.002934  1.374908\n",
      "F       0.744842  1.943034  3.002934  0.000000  1.944357\n",
      "(E, C)  1.424390  2.076451  1.374908  1.944357  0.000000\n",
      "[1.68305035, 2.7429511499999997, 1.6843736, 0.0]\n",
      "               B         D    (E, C)    (F, A)\n",
      "index                                         \n",
      "B       0.000000  3.135029  2.076451  1.683050\n",
      "D       3.135029  0.000000  1.374908  2.742951\n",
      "(E, C)  2.076451  1.374908  0.000000  1.684374\n",
      "(F, A)  1.683050  2.742951  1.684374  0.000000\n",
      "               B         D    (E, C)    (F, A)\n",
      "index                                         \n",
      "B       0.000000  3.135029  2.076451  1.683050\n",
      "D       3.135029  0.000000  1.374908  2.742951\n",
      "(E, C)  2.076451  1.374908  0.000000  1.684374\n",
      "(F, A)  1.683050  2.742951  1.684374  0.000000\n",
      "[2.605739825, 2.2136623749999997, 0.0]\n",
      "                   B    (F, A)  ((E, C), D)\n",
      "index                                      \n",
      "B            0.00000  1.683050     2.605740\n",
      "(F, A)       1.68305  0.000000     2.213662\n",
      "((E, C), D)  2.60574  2.213662     0.000000\n",
      "                   B    (F, A)  ((E, C), D)\n",
      "index                                      \n",
      "B            0.00000  1.683050     2.605740\n",
      "(F, A)       1.68305  0.000000     2.213662\n",
      "((E, C), D)  2.60574  2.213662     0.000000\n",
      "[2.4097011, 0.0]\n",
      "             ((E, C), D)  ((F, A), B)\n",
      "index                                \n",
      "((E, C), D)     0.000000     2.409701\n",
      "((F, A), B)     2.409701     0.000000\n",
      "             ((E, C), D)  ((F, A), B)\n",
      "index                                \n",
      "((E, C), D)     0.000000     2.409701\n",
      "((F, A), B)     2.409701     0.000000\n",
      "[0]\n",
      "                            (((F, A), B), ((E, C), D))\n",
      "index                                                 \n",
      "(((F, A), B), ((E, C), D))                           0\n"
     ]
    }
   ],
   "source": [
    "matrix = pd.read_csv('matriz_distancias.csv', sep = '\\t', index_col= 'index')\n",
    "\n",
    "while len(matrix.columns) > 1:\n",
    "    min, par = encontraMenorDistancia(matrix)\n",
    "    substituiPar(matrix, par) "
   ]
  }
 ],
 "metadata": {
  "kernelspec": {
   "display_name": "Python 3",
   "language": "python",
   "name": "python3"
  },
  "language_info": {
   "codemirror_mode": {
    "name": "ipython",
    "version": 3
   },
   "file_extension": ".py",
   "mimetype": "text/x-python",
   "name": "python",
   "nbconvert_exporter": "python",
   "pygments_lexer": "ipython3",
   "version": "3.11.0"
  },
  "orig_nbformat": 4,
  "vscode": {
   "interpreter": {
    "hash": "c261aea317cc0286b3b3261fbba9abdec21eaa57589985bb7a274bf54d6cc0a7"
   }
  }
 },
 "nbformat": 4,
 "nbformat_minor": 2
}
